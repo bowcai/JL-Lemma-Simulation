{
 "cells": [
  {
   "cell_type": "code",
   "execution_count": 1,
   "id": "6d1990f8-1e95-4b17-b59c-f8940104099c",
   "metadata": {},
   "outputs": [],
   "source": [
    "import numpy as np\n",
    "import matplotlib.pyplot as plt\n",
    "from scipy.spatial import distance_matrix"
   ]
  },
  {
   "cell_type": "code",
   "execution_count": 2,
   "id": "96922116-43b7-436e-bd37-278a00d9966d",
   "metadata": {},
   "outputs": [],
   "source": [
    "n = 100000\n",
    "N = 200"
   ]
  },
  {
   "cell_type": "code",
   "execution_count": 3,
   "id": "e7866648-c2c6-4e46-80fd-8d9006adb650",
   "metadata": {},
   "outputs": [],
   "source": [
    "epsilon = 0.2"
   ]
  },
  {
   "cell_type": "code",
   "execution_count": 4,
   "id": "ce08cab8-09f2-495e-b8e9-57e36181b12b",
   "metadata": {},
   "outputs": [],
   "source": [
    "m = int(np.ceil(24 * np.log(N) * (epsilon ** -2)))"
   ]
  },
  {
   "cell_type": "code",
   "execution_count": 5,
   "id": "c84c6899-fc8b-41a2-915c-486bce644f1e",
   "metadata": {},
   "outputs": [
    {
     "data": {
      "text/plain": [
       "3179"
      ]
     },
     "execution_count": 5,
     "metadata": {},
     "output_type": "execute_result"
    }
   ],
   "source": [
    "m"
   ]
  },
  {
   "cell_type": "code",
   "execution_count": 6,
   "id": "b9871936-a5a9-4aa5-9efb-fffd3832f0a6",
   "metadata": {},
   "outputs": [],
   "source": [
    "X = np.random.normal(size=(N, n)) + 10."
   ]
  },
  {
   "cell_type": "code",
   "execution_count": 7,
   "id": "020790a8-d3cc-4c41-9655-a58a06ef9880",
   "metadata": {},
   "outputs": [
    {
     "data": {
      "text/plain": [
       "(200, 100000)"
      ]
     },
     "execution_count": 7,
     "metadata": {},
     "output_type": "execute_result"
    }
   ],
   "source": [
    "X.shape"
   ]
  },
  {
   "cell_type": "code",
   "execution_count": 8,
   "id": "1ce74833-56cd-4f0c-9f4c-ef1d047fa4e7",
   "metadata": {},
   "outputs": [],
   "source": [
    "A = np.random.normal(0, 1/np.sqrt(m), (m, n))"
   ]
  },
  {
   "cell_type": "code",
   "execution_count": 9,
   "id": "a0c63ce7-a46c-4f36-9249-a92c4e812b22",
   "metadata": {},
   "outputs": [],
   "source": [
    "X_dimred = (A @ X.T).T"
   ]
  },
  {
   "cell_type": "code",
   "execution_count": 10,
   "id": "5e14e228-280e-44ea-8f93-2d66ae8db242",
   "metadata": {},
   "outputs": [
    {
     "data": {
      "text/plain": [
       "(200, 3179)"
      ]
     },
     "execution_count": 10,
     "metadata": {},
     "output_type": "execute_result"
    }
   ],
   "source": [
    "X_dimred.shape"
   ]
  },
  {
   "cell_type": "code",
   "execution_count": 11,
   "id": "9fc366a2-354b-4649-b612-5490f8a3a3f7",
   "metadata": {},
   "outputs": [],
   "source": [
    "dist_orig = distance_matrix(X, X)"
   ]
  },
  {
   "cell_type": "code",
   "execution_count": 12,
   "id": "faf8101f-2705-454f-ae29-00e0ffc5ab95",
   "metadata": {},
   "outputs": [],
   "source": [
    "dist_orig = dist_orig[np.triu_indices_from(dist_orig, k=1)]"
   ]
  },
  {
   "cell_type": "code",
   "execution_count": 13,
   "id": "27d3c0f7-504e-4144-b6ca-6874814612bd",
   "metadata": {},
   "outputs": [],
   "source": [
    "dist_dimred = distance_matrix(X_dimred, X_dimred)"
   ]
  },
  {
   "cell_type": "code",
   "execution_count": 14,
   "id": "f0a720a3-e26e-4778-947c-b470c3ac17f6",
   "metadata": {},
   "outputs": [],
   "source": [
    "dist_dimred = dist_dimred[np.triu_indices_from(dist_dimred, k=1)]"
   ]
  },
  {
   "cell_type": "code",
   "execution_count": 15,
   "id": "c76fa722-1934-4da4-995d-add70f1d9bdc",
   "metadata": {},
   "outputs": [],
   "source": [
    "diff = (dist_dimred ** 2 - dist_orig ** 2) / dist_orig ** 2"
   ]
  },
  {
   "cell_type": "code",
   "execution_count": 16,
   "id": "3cc1cef9-b3a8-42ca-b773-c81d0da6afbc",
   "metadata": {},
   "outputs": [
    {
     "data": {
      "text/plain": [
       "array([ 0.03662259,  0.00642912, -0.00545849, ..., -0.0304041 ,\n",
       "       -0.04691323, -0.02393412])"
      ]
     },
     "execution_count": 16,
     "metadata": {},
     "output_type": "execute_result"
    }
   ],
   "source": [
    "diff"
   ]
  },
  {
   "cell_type": "code",
   "execution_count": 17,
   "id": "820d4ae8-6b9e-4202-a6ad-558667ed4d4b",
   "metadata": {},
   "outputs": [
    {
     "data": {
      "image/png": "[encoded data removed]",
      "text/plain": [
       "<Figure size 576x432 with 1 Axes>"
      ]
     },
     "metadata": {
      "needs_background": "light"
     },
     "output_type": "display_data"
    }
   ],
   "source": [
    "plt.figure(figsize=(8,6))\n",
    "plt.hist(diff, bins=100, density = True)\n",
    "plt.xlabel('The relative difference of pair-wise distances')\n",
    "plt.ylabel('Probability Density')\n",
    "plt.savefig('img/random_proj.jpg')\n",
    "plt.show()"
   ]
  },
  {
   "cell_type": "code",
   "execution_count": null,
   "id": "b983aa7e-e0a8-4aaf-ae40-181503035233",
   "metadata": {},
   "outputs": [],
   "source": []
  }
 ],
 "metadata": {
  "kernelspec": {
   "display_name": "Python 3 (ipykernel)",
   "language": "python",
   "name": "python3"
  },
  "language_info": {
   "codemirror_mode": {
    "name": "ipython",
    "version": 3
   },
   "file_extension": ".py",
   "mimetype": "text/x-python",
   "name": "python",
   "nbconvert_exporter": "python",
   "pygments_lexer": "ipython3",
   "version": "3.9.12"
  }
 },
 "nbformat": 4,
 "nbformat_minor": 5
}
